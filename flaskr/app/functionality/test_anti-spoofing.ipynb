{
 "cells": [
  {
   "cell_type": "markdown",
   "id": "28b7d481",
   "metadata": {},
   "source": [
    "### 1. Functions and variables for collecting predictions"
   ]
  },
  {
   "cell_type": "code",
   "execution_count": null,
   "id": "179db89e",
   "metadata": {},
   "outputs": [],
   "source": [
    "import os\n",
    "import numpy as np\n",
    "import cv2\n",
    "from detection import detect_face_for_testing\n",
    "from feature_extraction import predict_spoof\n",
    "from anti_spoof import load_antispoof_model\n",
    "from sklearn.metrics import accuracy_score, precision_score, recall_score, f1_score\n",
    "\n",
    "DATASET_PATH_REAL = \"LCC_eval_pics/real\"\n",
    "DATASET_PATH_ATTACK = \"LCC_eval_pics/spoof\"\n",
    "N_REAL = 314\n",
    "N_SPOOFED = 700\n",
    "SPOOF_THRESHOLDS = np.concatenate(([0], np.arange(0.94, 1.00, 0.01)))\n",
    "\n",
    "antispoof_sess, antispoof_input = load_antispoof_model()\n",
    "\n",
    "def get_image_paths(dataset_path, n_images):\n",
    "    # Get n random image paths from the dataset\n",
    "    image_paths = [os.path.join(dataset_path, f) for f in os.listdir(dataset_path) if f.endswith(('.jpg', '.png'))]\n",
    "    sampled_image_paths = np.random.choice(image_paths, n_images, replace=False)\n",
    "\n",
    "    return sampled_image_paths\n",
    "\n",
    "def get_predictions(dataset_path, correct_pred, thresholds, n_pred):\n",
    "    n_undetected = 0\n",
    "    y_pred_li = [[] for _ in range(len(thresholds))] # Initialize a list of predictions for each threshold\n",
    "    \n",
    "    image_paths = get_image_paths(dataset_path, n_pred)\n",
    "\n",
    "    for image_path in image_paths: \n",
    "        image_array = cv2.imread(image_path)\n",
    "\n",
    "        if image_array is None:\n",
    "            print(f\"Error reading image: {image_path}\")\n",
    "            continue\n",
    "        \n",
    "        face_data, image_rgb = detect_face_for_testing(image_array)\n",
    "\n",
    "        if face_data is not None:\n",
    "\n",
    "            for i, threshold in enumerate(thresholds):\n",
    "                # Check if the image is spoofed based on the face data\n",
    "                pred = predict_spoof(face_data, image_rgb, antispoof_sess, antispoof_input, threshold)\n",
    "\n",
    "                if pred != correct_pred:\n",
    "                    #print(f'Incorrect prediction at: {image_path}')\n",
    "                    pass\n",
    "\n",
    "                y_pred_li[i].append(pred) # Append the prediction to the list for the current threshold\n",
    "        else:\n",
    "            n_undetected += 1\n",
    "            #print(f\"No face detected in image: {image_path}\")\n",
    "        \n",
    "    print(f\"Number of undetected images: {n_undetected}\")\n",
    "    return y_pred_li\n",
    "\n",
    "def run_test(path_real, path_attack, thresholds, n_real, n_spoofed):\n",
    "    # Collect one list of predictions for non-spoofed images for every threshold\n",
    "    y_pred_real_li = get_predictions(path_real, True, thresholds, n_real)\n",
    "    y_true_real = np.full(len(y_pred_real_li[0]), True)\n",
    "    print(f\"Number of real images: {len(y_pred_real_li[0])}\")\n",
    "\n",
    "    # Collect one list of predictions for spoofed images for every threshold\n",
    "    y_pred_attack_li = get_predictions(path_attack, False, thresholds, n_spoofed)\n",
    "    y_true_attack = np.full(len(y_pred_attack_li[0]), False)\n",
    "    print(f\"Number of spoofed images: {len(y_pred_attack_li[0])}\")\n",
    "\n",
    "    y_pred_li = [y_pred_real + y_pred_attack for (y_pred_real, y_pred_attack) in zip(y_pred_real_li, y_pred_attack_li)]\n",
    "    y_true = np.concatenate((y_true_real, y_true_attack))\n",
    "\n",
    "    for y_pred, threshold in zip(y_pred_li, thresholds):\n",
    "        accuracy = accuracy_score(y_true, y_pred)\n",
    "        precision = precision_score(y_true, y_pred)\n",
    "        recall = recall_score(y_true, y_pred)\n",
    "        f1 = f1_score(y_true, y_pred)\n",
    "\n",
    "        print(f\"Threshold: {threshold:.2f}\")\n",
    "        print(f\"Accuracy: {accuracy:.4f}, Precision: {precision:.4f}, Recall: {recall:.4f}, F1-score: {f1:.4f}\\n\")\n",
    "\n",
    "    return y_pred_li, y_true\n",
    "\n"
   ]
  },
  {
   "cell_type": "markdown",
   "id": "9b8ad9e6",
   "metadata": {},
   "source": [
    "### 2. Collecting predictions on images for each threshold, then plotting an ROC curve"
   ]
  },
  {
   "cell_type": "code",
   "execution_count": null,
   "id": "09c3058d",
   "metadata": {},
   "outputs": [],
   "source": [
    "from plotting import plot_conf_mat, plot_ROC\n",
    "\n",
    "y_pred_li, y_true = run_test(DATASET_PATH_REAL, DATASET_PATH_ATTACK, SPOOF_THRESHOLDS, N_REAL, N_SPOOFED)\n",
    "\n",
    "plot_ROC(y_true, y_pred_li, SPOOF_THRESHOLDS)\n"
   ]
  },
  {
   "cell_type": "markdown",
   "id": "3097ef12",
   "metadata": {},
   "source": [
    "### 3. Plotting a confusion matrix for each threshold"
   ]
  },
  {
   "cell_type": "code",
   "execution_count": null,
   "id": "c6be00b2",
   "metadata": {},
   "outputs": [],
   "source": [
    "for y_pred in y_pred_li:\n",
    "    plot_conf_mat(y_true, y_pred)"
   ]
  }
 ],
 "metadata": {
  "kernelspec": {
   "display_name": "deep",
   "language": "python",
   "name": "python3"
  },
  "language_info": {
   "codemirror_mode": {
    "name": "ipython",
    "version": 3
   },
   "file_extension": ".py",
   "mimetype": "text/x-python",
   "name": "python",
   "nbconvert_exporter": "python",
   "pygments_lexer": "ipython3",
   "version": "3.12.8"
  }
 },
 "nbformat": 4,
 "nbformat_minor": 5
}
