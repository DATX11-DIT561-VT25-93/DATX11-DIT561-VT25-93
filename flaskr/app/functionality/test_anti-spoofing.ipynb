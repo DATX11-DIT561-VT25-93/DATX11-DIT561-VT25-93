{
 "cells": [
  {
   "cell_type": "markdown",
   "id": "28b7d481",
   "metadata": {},
   "source": [
    "### 1. Preparing for collecting predictions"
   ]
  },
  {
   "cell_type": "code",
   "execution_count": null,
   "id": "179db89e",
   "metadata": {},
   "outputs": [],
   "source": [
    "import os\n",
    "import numpy as np\n",
    "import cv2\n",
    "from detection import detect_face_for_testing\n",
    "from feature_extraction import predict_spoof\n",
    "from anti_spoof import load_antispoof_model\n",
    "\n",
    "DATASET_PATH_REAL = \"MSU-MFSD_pics/real\"\n",
    "DATASET_PATH_ATTACK = \"MSU-MFSD_pics/attack\"\n",
    "\n",
    "antispoof_sess, antispoof_input = load_antispoof_model()\n",
    "\n",
    "y_true_real = np.full(len(os.listdir(DATASET_PATH_REAL)), True)\n",
    "y_true_attack = np.full(len(os.listdir(DATASET_PATH_ATTACK)), False)\n",
    "y_true = np.concatenate((y_true_real, y_true_attack))\n",
    "\n",
    "def get_predictions(dataset_path, correct_pred, y_pred):\n",
    "    #j = 0\n",
    "\n",
    "    for image in os.listdir(dataset_path):\n",
    "        image_path = os.path.join(dataset_path, image)\n",
    "        \n",
    "        image_array = cv2.imread(image_path)\n",
    "        face_data, _, image_rgb = detect_face_for_testing(image_array)\n",
    "\n",
    "        if face_data is not None:\n",
    "            # Check if image is spoofed based on the face data\n",
    "            pred = predict_spoof(face_data, image_rgb, antispoof_sess, antispoof_input)\n",
    "            y_pred.append(pred)\n",
    "\n",
    "            if pred != correct_pred:\n",
    "                print(f'Incorrect prediction at: {image_path}')\n",
    "\n",
    "        #j += 1\n",
    "\n",
    "        #if j > 10: # To ensure not loading the entire dataset when testing the basic test functionality\n",
    "        #    break\n",
    "\n"
   ]
  },
  {
   "cell_type": "markdown",
   "id": "9b8ad9e6",
   "metadata": {},
   "source": [
    "### 2. Collecting predictions on images classified as real and spoofed, respectively"
   ]
  },
  {
   "cell_type": "code",
   "execution_count": null,
   "id": "fe46a30c",
   "metadata": {},
   "outputs": [],
   "source": [
    "y_pred = []\n",
    "\n",
    "# Collect predictions for non-spoofed images\n",
    "get_predictions(DATASET_PATH_REAL, True, y_pred)\n",
    "\n",
    "# Collect predictions for spoofed images\n",
    "get_predictions(DATASET_PATH_ATTACK, False, y_pred)\n",
    "\n",
    "# Look at the updated predictions list\n",
    "print(y_pred)"
   ]
  },
  {
   "cell_type": "markdown",
   "id": "447be541",
   "metadata": {},
   "source": [
    "### 3. Computing the common accuracy scores and plotting a confusion matrix"
   ]
  },
  {
   "cell_type": "code",
   "execution_count": null,
   "id": "584886f5",
   "metadata": {},
   "outputs": [],
   "source": [
    "import matplotlib.pyplot as plt\n",
    "import matplotlib as mpl\n",
    "from sklearn.metrics import accuracy_score, precision_score, recall_score, f1_score, confusion_matrix, ConfusionMatrixDisplay\n",
    "\n",
    "accuracy = accuracy_score(y_true, y_pred)\n",
    "precision = precision_score(y_true, y_pred)\n",
    "recall = recall_score(y_true, y_pred)\n",
    "f1 = f1_score(y_true, y_pred)\n",
    "\n",
    "print(f\"Accuracy: {accuracy:.4f}, Precision: {precision:.4f}, Recall: {recall:.4f}, F1-score: {f1:.4f}\\n\")\n",
    "\n",
    "# Global font\n",
    "mpl.rcParams['font.family'] = 'Times New Roman'\n",
    "\n",
    "# Global font size\n",
    "mpl.rcParams['font.size'] = 18\n",
    "\n",
    "conf_mat = confusion_matrix(y_true, y_pred)\n",
    "\n",
    "# Plotting the confusion matrix\n",
    "conf_mat_display = ConfusionMatrixDisplay(conf_mat)\n",
    "conf_mat_display.plot()\n",
    "\n",
    "# Labels\n",
    "plt.xlabel(\"Predicted Value\")\n",
    "plt.ylabel(\"True Value\")\n",
    "\n",
    "plt.show()\n"
   ]
  }
 ],
 "metadata": {
  "kernelspec": {
   "display_name": "deep",
   "language": "python",
   "name": "python3"
  },
  "language_info": {
   "codemirror_mode": {
    "name": "ipython",
    "version": 3
   },
   "file_extension": ".py",
   "mimetype": "text/x-python",
   "name": "python",
   "nbconvert_exporter": "python",
   "pygments_lexer": "ipython3",
   "version": "3.12.8"
  }
 },
 "nbformat": 4,
 "nbformat_minor": 5
}
